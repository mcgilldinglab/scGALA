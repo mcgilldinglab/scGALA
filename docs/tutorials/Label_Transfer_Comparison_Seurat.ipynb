{
 "cells": [
  {
   "cell_type": "markdown",
   "metadata": {},
   "source": [
    "# Label Transfer Enhancement with scGALA\n",
    "\n",
    "This tutorial demonstrates how to improve Seurat's label transfer capabilities by replacing its default cell alignment method with scGALA. We'll walk through:\n",
    "\n",
    "1. Running a standard Seurat label transfer workflow\n",
    "2. Identifying and extracting the cell alignments (anchors) \n",
    "3. Enhancing these alignments using scGALA\n",
    "4. Comparing the performance of the original and enhanced approaches\n",
    "\n",
    "## Background\n",
    "\n",
    "Label transfer is a common task in single-cell analysis, where cell type annotations from a reference dataset are transferred to a new (query) dataset. Seurat accomplishes this through a process that identifies \"anchors\" between datasets. These anchors are pairs of cells that likely represent the same biological state.\n",
    "\n",
    "While Seurat's canonical correlation analysis (CCA) approach works well, scGALA can improve these alignments by better capturing the underlying biological relationships between cells from different datasets.\n",
    "\n",
    "## Dataset Description\n",
    "\n",
    "In this tutorial, we're working with:\n",
    "\n",
    "- **Reference dataset**: A well-annotated single-cell RNA-seq dataset with established cell type labels\n",
    "- **Query dataset**: A new dataset where we want to transfer the reference cell type annotations\n",
    "\n",
    "Both datasets are loaded as Seurat objects from RDS files and can be accessed from [Figshare](https://figshare.com/articles/dataset/Label_Transfer_Example_Data/28728617). Our goal is to accurately assign cell types from the reference to the query cells."
   ]
  },
  {
   "cell_type": "markdown",
   "metadata": {},
   "source": [
    "## External Reference"
   ]
  },
  {
   "cell_type": "markdown",
   "metadata": {},
   "source": [
    "Since Seurat runs with clear procedure steps, it's recommended to use the External Reference strategy.\n",
    "\n",
    "First, we need to identify the Cell Alignment step (key words to look for: MNN, Alignment, CCA, Anchor, Correspondence). In Seurat, we found the FindTransferAnchors step to be the target. Then we export the its original CCA-based cell alignments and enhance using scGALA."
   ]
  },
  {
   "cell_type": "markdown",
   "metadata": {},
   "source": [
    "### Understanding the Preprocessing Steps\n",
    "\n",
    "Before running label transfer, we need to prepare the reference dataset:\n",
    "\n",
    "1. **NormalizeData**: Log-normalizes the expression data\n",
    "2. **FindVariableFeatures**: Identifies genes with high variability across cells\n",
    "3. **ScaleData**: Scales and centers the expression values\n",
    "4. **RunPCA**: Performs dimensionality reduction via principal component analysis\n",
    "5. **FindNeighbors**: Constructs a K-nearest neighbor (KNN) graph\n",
    "\n",
    "These steps are essential for creating a clean, well-structured reference that will serve as the basis for our label transfer."
   ]
  },
  {
   "cell_type": "code",
   "execution_count": null,
   "metadata": {
    "vscode": {
     "languageId": "r"
    }
   },
   "outputs": [
    {
     "name": "stderr",
     "output_type": "stream",
     "text": [
      "Loading required package: SeuratObject\n",
      "\n",
      "Loading required package: sp\n",
      "\n",
      "\n",
      "Attaching package: ‘SeuratObject’\n",
      "\n",
      "\n",
      "The following objects are masked from ‘package:base’:\n",
      "\n",
      "    intersect, t\n",
      "\n",
      "\n",
      "Loading required package: lattice\n",
      "\n"
     ]
    }
   ],
   "source": [
    "# Load necessary libraries for analysis\n",
    "library(Seurat)\n",
    "library(ggplot2)\n",
    "library(pheatmap)\n",
    "library(caret)"
   ]
  },
  {
   "cell_type": "code",
   "execution_count": null,
   "metadata": {
    "vscode": {
     "languageId": "r"
    }
   },
   "outputs": [
    {
     "data": {
      "text/plain": [
       "An object of class Seurat \n",
       "18064 features across 3206 samples within 1 assay \n",
       "Active assay: RNA (18064 features, 0 variable features)\n",
       " 2 layers present: counts, data\n",
       " 1 dimensional reduction calculated: umap"
      ]
     },
     "metadata": {},
     "output_type": "display_data"
    }
   ],
   "source": [
    "# Load reference and query datasets from RDS files\n",
    "data.ref <- readRDS(\"./ref_adata.rds\")\n",
    "data.query <- readRDS(\"./query_adata.rds\")\n",
    "\n",
    "data.ref"
   ]
  },
  {
   "cell_type": "code",
   "execution_count": 3,
   "metadata": {
    "vscode": {
     "languageId": "r"
    }
   },
   "outputs": [
    {
     "data": {
      "text/html": [
       "<table class=\"dataframe\">\n",
       "<caption>A data.frame: 6 × 2</caption>\n",
       "<thead>\n",
       "\t<tr><th></th><th scope=col>cell_type</th><th scope=col>labels</th></tr>\n",
       "\t<tr><th></th><th scope=col>&lt;fct&gt;</th><th scope=col>&lt;fct&gt;</th></tr>\n",
       "</thead>\n",
       "<tbody>\n",
       "\t<tr><th scope=row>B4_GTGGAAGCAATATGGTATGTTGAC-1</th><td>fibroblast of lung       </td><td>fibroblast of lung       </td></tr>\n",
       "\t<tr><th scope=row>B4_GTGGAAGCAGATAACTATGTTGAC-1</th><td>malignant cell           </td><td>malignant cell           </td></tr>\n",
       "\t<tr><th scope=row>B1_AAACAAGCATTTGGAGACTTTAGG-1</th><td>cytotoxic T cell         </td><td>cytotoxic T cell         </td></tr>\n",
       "\t<tr><th scope=row>B4_GTGGACCAGGCTGTGAATGTTGAC-1</th><td>smooth muscle cell       </td><td>smooth muscle cell       </td></tr>\n",
       "\t<tr><th scope=row>B4_GTTAAGGGTGGTTATCATGTTGAC-1</th><td>malignant cell           </td><td>malignant cell           </td></tr>\n",
       "\t<tr><th scope=row>B4_GTTAATGAGTCATGAAATGTTGAC-1</th><td>natural T-regulatory cell</td><td>natural T-regulatory cell</td></tr>\n",
       "</tbody>\n",
       "</table>\n"
      ],
      "text/latex": [
       "A data.frame: 6 × 2\n",
       "\\begin{tabular}{r|ll}\n",
       "  & cell\\_type & labels\\\\\n",
       "  & <fct> & <fct>\\\\\n",
       "\\hline\n",
       "\tB4\\_GTGGAAGCAATATGGTATGTTGAC-1 & fibroblast of lung        & fibroblast of lung       \\\\\n",
       "\tB4\\_GTGGAAGCAGATAACTATGTTGAC-1 & malignant cell            & malignant cell           \\\\\n",
       "\tB1\\_AAACAAGCATTTGGAGACTTTAGG-1 & cytotoxic T cell          & cytotoxic T cell         \\\\\n",
       "\tB4\\_GTGGACCAGGCTGTGAATGTTGAC-1 & smooth muscle cell        & smooth muscle cell       \\\\\n",
       "\tB4\\_GTTAAGGGTGGTTATCATGTTGAC-1 & malignant cell            & malignant cell           \\\\\n",
       "\tB4\\_GTTAATGAGTCATGAAATGTTGAC-1 & natural T-regulatory cell & natural T-regulatory cell\\\\\n",
       "\\end{tabular}\n"
      ],
      "text/markdown": [
       "\n",
       "A data.frame: 6 × 2\n",
       "\n",
       "| <!--/--> | cell_type &lt;fct&gt; | labels &lt;fct&gt; |\n",
       "|---|---|---|\n",
       "| B4_GTGGAAGCAATATGGTATGTTGAC-1 | fibroblast of lung        | fibroblast of lung        |\n",
       "| B4_GTGGAAGCAGATAACTATGTTGAC-1 | malignant cell            | malignant cell            |\n",
       "| B1_AAACAAGCATTTGGAGACTTTAGG-1 | cytotoxic T cell          | cytotoxic T cell          |\n",
       "| B4_GTGGACCAGGCTGTGAATGTTGAC-1 | smooth muscle cell        | smooth muscle cell        |\n",
       "| B4_GTTAAGGGTGGTTATCATGTTGAC-1 | malignant cell            | malignant cell            |\n",
       "| B4_GTTAATGAGTCATGAAATGTTGAC-1 | natural T-regulatory cell | natural T-regulatory cell |\n",
       "\n"
      ],
      "text/plain": [
       "                              cell_type                \n",
       "B4_GTGGAAGCAATATGGTATGTTGAC-1 fibroblast of lung       \n",
       "B4_GTGGAAGCAGATAACTATGTTGAC-1 malignant cell           \n",
       "B1_AAACAAGCATTTGGAGACTTTAGG-1 cytotoxic T cell         \n",
       "B4_GTGGACCAGGCTGTGAATGTTGAC-1 smooth muscle cell       \n",
       "B4_GTTAAGGGTGGTTATCATGTTGAC-1 malignant cell           \n",
       "B4_GTTAATGAGTCATGAAATGTTGAC-1 natural T-regulatory cell\n",
       "                              labels                   \n",
       "B4_GTGGAAGCAATATGGTATGTTGAC-1 fibroblast of lung       \n",
       "B4_GTGGAAGCAGATAACTATGTTGAC-1 malignant cell           \n",
       "B1_AAACAAGCATTTGGAGACTTTAGG-1 cytotoxic T cell         \n",
       "B4_GTGGACCAGGCTGTGAATGTTGAC-1 smooth muscle cell       \n",
       "B4_GTTAAGGGTGGTTATCATGTTGAC-1 malignant cell           \n",
       "B4_GTTAATGAGTCATGAAATGTTGAC-1 natural T-regulatory cell"
      ]
     },
     "metadata": {},
     "output_type": "display_data"
    }
   ],
   "source": [
    "# Add metadata to data.ref\n",
    "data.ref$labels <- data.ref$cell_type\n",
    "data.query$labels <- data.query$cell_type\n",
    "# Verify the changes\n",
    "head(data.ref@meta.data[, c('cell_type', \"labels\")])\n"
   ]
  },
  {
   "cell_type": "code",
   "execution_count": 4,
   "metadata": {
    "vscode": {
     "languageId": "r"
    }
   },
   "outputs": [
    {
     "name": "stderr",
     "output_type": "stream",
     "text": [
      "Centering and scaling data matrix\n",
      "\n",
      "PC_ 1 \n",
      "Positive:  ENSG00000121270, ENSG00000164434, ENSG00000179593, ENSG00000116133, ENSG00000084234, ENSG00000100867, ENSG00000127324, ENSG00000167642, ENSG00000178372, ENSG00000236699 \n",
      "\t   ENSG00000155368, ENSG00000142949, ENSG00000008394, ENSG00000176046, ENSG00000135226, ENSG00000170421, ENSG00000127249, ENSG00000204580, ENSG00000039068, ENSG00000156284 \n",
      "\t   ENSG00000119888, ENSG00000120833, ENSG00000124107, ENSG00000164120, ENSG00000110921, ENSG00000182054, ENSG00000140263, ENSG00000102287, ENSG00000091138, ENSG00000096060 \n",
      "Negative:  ENSG00000142156, ENSG00000011465, ENSG00000204262, ENSG00000038427, ENSG00000166147, ENSG00000113140, ENSG00000130635, ENSG00000060718, ENSG00000140937, ENSG00000133110 \n",
      "\t   ENSG00000164932, ENSG00000182492, ENSG00000182326, ENSG00000112769, ENSG00000159674, ENSG00000163430, ENSG00000139329, ENSG00000100234, ENSG00000035862, ENSG00000091986 \n",
      "\t   ENSG00000107796, ENSG00000113721, ENSG00000122641, ENSG00000137809, ENSG00000145423, ENSG00000164949, ENSG00000103196, ENSG00000099953, ENSG00000078098, ENSG00000087245 \n",
      "PC_ 2 \n",
      "Positive:  ENSG00000130635, ENSG00000113140, ENSG00000133110, ENSG00000087245, ENSG00000182492, ENSG00000164932, ENSG00000204262, ENSG00000139329, ENSG00000142156, ENSG00000035862 \n",
      "\t   ENSG00000166033, ENSG00000145423, ENSG00000038427, ENSG00000099953, ENSG00000101825, ENSG00000011465, ENSG00000158747, ENSG00000106819, ENSG00000166147, ENSG00000111799 \n",
      "\t   ENSG00000163430, ENSG00000140937, ENSG00000060718, ENSG00000148848, ENSG00000137809, ENSG00000196562, ENSG00000091986, ENSG00000172061, ENSG00000123500, ENSG00000154096 \n",
      "Negative:  ENSG00000159763, ENSG00000091138, ENSG00000124107, ENSG00000150594, ENSG00000134240, ENSG00000211772, ENSG00000152056, ENSG00000277734, ENSG00000163273, ENSG00000124743 \n",
      "\t   ENSG00000213809, ENSG00000211751, ENSG00000110848, ENSG00000183844, ENSG00000139209, ENSG00000141744, ENSG00000153563, ENSG00000181847, ENSG00000172425, ENSG00000100385 \n",
      "\t   ENSG00000178372, ENSG00000105374, ENSG00000102096, ENSG00000121270, ENSG00000139187, ENSG00000189221, ENSG00000188257, ENSG00000091490, ENSG00000144452, ENSG00000172927 \n",
      "PC_ 3 \n",
      "Positive:  ENSG00000173372, ENSG00000159189, ENSG00000173369, ENSG00000110077, ENSG00000038945, ENSG00000129226, ENSG00000137491, ENSG00000019582, ENSG00000182578, ENSG00000177575 \n",
      "\t   ENSG00000066336, ENSG00000140678, ENSG00000090382, ENSG00000107551, ENSG00000170458, ENSG00000010327, ENSG00000143226, ENSG00000216490, ENSG00000187474, ENSG00000018280 \n",
      "\t   ENSG00000203747, ENSG00000198223, ENSG00000011600, ENSG00000137462, ENSG00000172243, ENSG00000173110, ENSG00000166927, ENSG00000165168, ENSG00000012779, ENSG00000130203 \n",
      "Negative:  ENSG00000011465, ENSG00000142156, ENSG00000204262, ENSG00000166147, ENSG00000130635, ENSG00000150594, ENSG00000038427, ENSG00000143369, ENSG00000091138, ENSG00000140937 \n",
      "\t   ENSG00000111799, ENSG00000159763, ENSG00000091986, ENSG00000060718, ENSG00000137809, ENSG00000133110, ENSG00000182326, ENSG00000159674, ENSG00000163430, ENSG00000182492 \n",
      "\t   ENSG00000113140, ENSG00000124107, ENSG00000164949, ENSG00000182871, ENSG00000113721, ENSG00000164932, ENSG00000100234, ENSG00000107796, ENSG00000103196, ENSG00000049540 \n",
      "PC_ 4 \n",
      "Positive:  ENSG00000091831, ENSG00000164403, ENSG00000144802, ENSG00000151892, ENSG00000101443, ENSG00000185499, ENSG00000113739, ENSG00000173467, ENSG00000074527, ENSG00000137962 \n",
      "\t   ENSG00000182272, ENSG00000203697, ENSG00000272398, ENSG00000134258, ENSG00000125740, ENSG00000106541, ENSG00000114248, ENSG00000173334, ENSG00000115457, ENSG00000178935 \n",
      "\t   ENSG00000081479, ENSG00000171121, ENSG00000153404, ENSG00000130513, ENSG00000159388, ENSG00000103534, ENSG00000171223, ENSG00000125398, ENSG00000183856, ENSG00000136883 \n",
      "Negative:  ENSG00000091138, ENSG00000159763, ENSG00000150594, ENSG00000164434, ENSG00000178372, ENSG00000124107, ENSG00000143369, ENSG00000155368, ENSG00000139209, ENSG00000179593 \n",
      "\t   ENSG00000127324, ENSG00000096060, ENSG00000167617, ENSG00000250722, ENSG00000170458, ENSG00000173372, ENSG00000173369, ENSG00000277443, ENSG00000159189, ENSG00000164733 \n",
      "\t   ENSG00000110077, ENSG00000099194, ENSG00000198682, ENSG00000124743, ENSG00000177575, ENSG00000163273, ENSG00000182578, ENSG00000100867, ENSG00000211448, ENSG00000137491 \n",
      "PC_ 5 \n",
      "Positive:  ENSG00000159763, ENSG00000124107, ENSG00000143369, ENSG00000150594, ENSG00000134240, ENSG00000152056, ENSG00000091138, ENSG00000198763, ENSG00000163273, ENSG00000183844 \n",
      "\t   ENSG00000139209, ENSG00000172425, ENSG00000130300, ENSG00000187678, ENSG00000124743, ENSG00000141744, ENSG00000189143, ENSG00000117115, ENSG00000128567, ENSG00000125266 \n",
      "\t   ENSG00000240583, ENSG00000179776, ENSG00000183888, ENSG00000251322, ENSG00000169908, ENSG00000188257, ENSG00000102755, ENSG00000189221, ENSG00000182621, ENSG00000101417 \n",
      "Negative:  ENSG00000148513, ENSG00000141750, ENSG00000171097, ENSG00000124575, ENSG00000275713, ENSG00000140798, ENSG00000111319, ENSG00000018236, ENSG00000169213, ENSG00000144648 \n",
      "\t   ENSG00000273802, ENSG00000073849, ENSG00000163220, ENSG00000086696, ENSG00000130234, ENSG00000170476, ENSG00000105852, ENSG00000151632, ENSG00000102096, ENSG00000136010 \n",
      "\t   ENSG00000012223, ENSG00000197249, ENSG00000133328, ENSG00000110777, ENSG00000198917, ENSG00000162366, ENSG00000211895, ENSG00000099958, ENSG00000239264, ENSG00000132465 \n",
      "\n",
      "Computing nearest neighbor graph\n",
      "\n",
      "Computing SNN\n",
      "\n"
     ]
    }
   ],
   "source": [
    "# pre-process dataset (without integration)\n",
    "data.ref <- NormalizeData(data.ref)\n",
    "data.ref <- FindVariableFeatures(data.ref)\n",
    "data.ref <- ScaleData(data.ref)\n",
    "data.ref <- RunPCA(data.ref)\n",
    "data.ref <- FindNeighbors(data.ref, dims = 1:30)\n",
    "# data.ref <- FindClusters(data.ref)"
   ]
  },
  {
   "cell_type": "markdown",
   "metadata": {},
   "source": [
    "### Seurat's Original Label Transfer Workflow\n",
    "\n",
    "Seurat's label transfer involves three main steps:\n",
    "\n",
    "1. **FindTransferAnchors**: Identifies \"anchor\" pairs between reference and query datasets using canonical correlation analysis (CCA)\n",
    "2. **TransferData**: Uses these anchors to transfer labels from reference to query\n",
    "3. **AddMetaData**: Adds the transferred labels to the query object's metadata\n",
    "\n",
    "In this section, we'll perform these steps with Seurat's default parameters to establish a baseline for comparison."
   ]
  },
  {
   "cell_type": "code",
   "execution_count": 6,
   "metadata": {
    "vscode": {
     "languageId": "r"
    }
   },
   "outputs": [
    {
     "name": "stderr",
     "output_type": "stream",
     "text": [
      "Projecting cell embeddings\n",
      "\n",
      "Finding neighborhoods\n",
      "\n",
      "Finding anchors\n",
      "\n",
      "\tFound 1049 anchors\n",
      "\n",
      "Finding integration vectors\n",
      "\n",
      "Finding integration vector weights\n",
      "\n",
      "Predicting cell labels\n",
      "\n"
     ]
    }
   ],
   "source": [
    "# select two technologies for the query datasets\n",
    "data.query <- NormalizeData(data.query)\n",
    "data.anchors <- FindTransferAnchors(reference = data.ref, query = data.query, dims = 1:30,\n",
    "    reference.reduction = \"pca\")\n",
    "predictions <- TransferData(anchorset = data.anchors, refdata = data.ref$labels, dims = 1:30)\n",
    "data.query <- AddMetaData(data.query, metadata = predictions)"
   ]
  },
  {
   "cell_type": "code",
   "execution_count": null,
   "metadata": {
    "vscode": {
     "languageId": "r"
    }
   },
   "outputs": [
    {
     "data": {
      "text/plain": [
       "\n",
       "FALSE  TRUE \n",
       " 2103  5380 "
      ]
     },
     "metadata": {},
     "output_type": "display_data"
    }
   ],
   "source": [
    "# Calculate accuracy by comparing predicted labels with known labels\n",
    "data.query$prediction.match <- data.query$predicted.id == data.query$labels\n",
    "table(data.query$prediction.match)"
   ]
  },
  {
   "cell_type": "code",
   "execution_count": 8,
   "metadata": {
    "vscode": {
     "languageId": "r"
    }
   },
   "outputs": [],
   "source": [
    "# Save the data.query$predicted.id\n",
    "write.csv(data.query$predicted.id, file = \"predicted_id_ori.csv\", row.names = TRUE)"
   ]
  },
  {
   "cell_type": "markdown",
   "metadata": {},
   "source": [
    "## Evaluate the original label transfer"
   ]
  },
  {
   "cell_type": "markdown",
   "metadata": {},
   "source": [
    "### Evaluating Label Transfer Performance\n",
    "\n",
    "We'll evaluate the accuracy of our label transfer by comparing the predicted cell types with the actual cell types in our query dataset. The key metrics we'll examine are:\n",
    "\n",
    "1. **Overall accuracy**: Percentage of cells correctly labeled\n",
    "2. **Kappa statistic**: Measures agreement while accounting for chance\n",
    "3. **Per-class accuracy**: How well each cell type is identified\n",
    "\n",
    "These metrics will allow us to compare the performance of Seurat's default approach with our scGALA-enhanced method."
   ]
  },
  {
   "cell_type": "code",
   "execution_count": 9,
   "metadata": {
    "vscode": {
     "languageId": "r"
    }
   },
   "outputs": [
    {
     "name": "stderr",
     "output_type": "stream",
     "text": [
      "Warning message in levels(reference) != levels(data):\n",
      "“longer object length is not a multiple of shorter object length”\n",
      "Warning message in confusionMatrix.default(data = factor(data.query$predicted.id), :\n",
      "“Levels are not in the same order for reference and data. Refactoring data to match.”\n"
     ]
    }
   ],
   "source": [
    "library(caret)\n",
    "\n",
    "# Calculate the F1 score\n",
    "conf_matrix <-confusionMatrix(data = factor(data.query$predicted.id), reference = factor(data.query$labels), mode='everything')"
   ]
  },
  {
   "cell_type": "code",
   "execution_count": 10,
   "metadata": {
    "vscode": {
     "languageId": "r"
    }
   },
   "outputs": [
    {
     "name": "stdout",
     "output_type": "stream",
     "text": [
      "      Accuracy          Kappa  AccuracyLower  AccuracyUpper   AccuracyNull \n",
      "     0.7189630      0.6120946      0.7086276      0.7291276      0.4327142 \n",
      "AccuracyPValue  McnemarPValue \n",
      "     0.0000000            NaN \n"
     ]
    }
   ],
   "source": [
    "print(conf_matrix$overall)"
   ]
  },
  {
   "cell_type": "code",
   "execution_count": 11,
   "metadata": {
    "vscode": {
     "languageId": "r"
    }
   },
   "outputs": [
    {
     "name": "stderr",
     "output_type": "stream",
     "text": [
      "Warning message in levels(reference) != levels(data):\n",
      "“longer object length is not a multiple of shorter object length”\n",
      "Warning message in confusionMatrix.default(data = factor(data.query$predicted.id), :\n",
      "“Levels are not in the same order for reference and data. Refactoring data to match.”\n"
     ]
    }
   ],
   "source": [
    "# Ensure the levels of predicted and reference factors are the same\n",
    "levels(data.query$predicted.id) <- levels(data.query$labels)\n",
    "\n",
    "# Create a confusion matrix\n",
    "conf_matrix <- confusionMatrix(data = factor(data.query$predicted.id), reference = factor(data.query$labels), mode='everything')\n",
    "\n",
    "# Extract the confusion matrix table\n",
    "conf_matrix_table <- conf_matrix$table\n",
    "\n",
    "# Convert counts to proportions (accuracy)\n",
    "accuracy_matrix <- prop.table(conf_matrix_table, margin = 1)\n",
    "write.csv(accuracy_matrix, file = \"accuracy_matrix_ori.csv\", row.names = TRUE)"
   ]
  },
  {
   "cell_type": "markdown",
   "metadata": {},
   "source": [
    "## Export the original cell alignments"
   ]
  },
  {
   "cell_type": "markdown",
   "metadata": {},
   "source": [
    "### Understanding Seurat Anchors\n",
    "\n",
    "Anchors are the foundation of Seurat's label transfer approach. Each anchor consists of:\n",
    "\n",
    "1. **cell1**: Index of a cell in the reference dataset\n",
    "2. **cell2**: Index of a cell in the query dataset\n",
    "3. **score**: Confidence score for this anchor pair (higher is better)\n",
    "\n",
    "We'll export these anchors to a CSV file for processing by scGALA. Note that the indices in Seurat start at 1, which is important when interfacing with Python-based tools that typically use 0-indexed arrays."
   ]
  },
  {
   "cell_type": "code",
   "execution_count": 12,
   "metadata": {
    "vscode": {
     "languageId": "r"
    }
   },
   "outputs": [
    {
     "data": {
      "text/html": [
       "<table class=\"dataframe\">\n",
       "<caption>A matrix: 6 × 3 of type dbl</caption>\n",
       "<thead>\n",
       "\t<tr><th scope=col>cell1</th><th scope=col>cell2</th><th scope=col>score</th></tr>\n",
       "</thead>\n",
       "<tbody>\n",
       "\t<tr><td>16</td><td>4283</td><td>0.3089832</td></tr>\n",
       "\t<tr><td>16</td><td>3810</td><td>0.5064166</td></tr>\n",
       "\t<tr><td>16</td><td>4522</td><td>0.5064166</td></tr>\n",
       "\t<tr><td>36</td><td>2924</td><td>0.8519250</td></tr>\n",
       "\t<tr><td>36</td><td>1200</td><td>0.8519250</td></tr>\n",
       "\t<tr><td>36</td><td>1581</td><td>0.8272458</td></tr>\n",
       "</tbody>\n",
       "</table>\n"
      ],
      "text/latex": [
       "A matrix: 6 × 3 of type dbl\n",
       "\\begin{tabular}{lll}\n",
       " cell1 & cell2 & score\\\\\n",
       "\\hline\n",
       "\t 16 & 4283 & 0.3089832\\\\\n",
       "\t 16 & 3810 & 0.5064166\\\\\n",
       "\t 16 & 4522 & 0.5064166\\\\\n",
       "\t 36 & 2924 & 0.8519250\\\\\n",
       "\t 36 & 1200 & 0.8519250\\\\\n",
       "\t 36 & 1581 & 0.8272458\\\\\n",
       "\\end{tabular}\n"
      ],
      "text/markdown": [
       "\n",
       "A matrix: 6 × 3 of type dbl\n",
       "\n",
       "| cell1 | cell2 | score |\n",
       "|---|---|---|\n",
       "| 16 | 4283 | 0.3089832 |\n",
       "| 16 | 3810 | 0.5064166 |\n",
       "| 16 | 4522 | 0.5064166 |\n",
       "| 36 | 2924 | 0.8519250 |\n",
       "| 36 | 1200 | 0.8519250 |\n",
       "| 36 | 1581 | 0.8272458 |\n",
       "\n"
      ],
      "text/plain": [
       "     cell1 cell2 score    \n",
       "[1,] 16    4283  0.3089832\n",
       "[2,] 16    3810  0.5064166\n",
       "[3,] 16    4522  0.5064166\n",
       "[4,] 36    2924  0.8519250\n",
       "[5,] 36    1200  0.8519250\n",
       "[6,] 36    1581  0.8272458"
      ]
     },
     "metadata": {},
     "output_type": "display_data"
    }
   ],
   "source": [
    "head(data.anchors@anchors)"
   ]
  },
  {
   "cell_type": "code",
   "execution_count": null,
   "metadata": {
    "vscode": {
     "languageId": "r"
    }
   },
   "outputs": [],
   "source": [
    "write.csv(data.anchors@anchors, file = \"anchors_ori.csv\", row.names = FALSE)"
   ]
  },
  {
   "cell_type": "markdown",
   "metadata": {},
   "source": [
    "## Running scGALA Enhancement\n",
    "\n",
    "In a separate Python environment, we'll enhance the anchors using scGALA. The process involves:\n",
    "\n",
    "1. Loading the original anchors from the CSV file\n",
    "2. Converting the reference and query Seurat objects to AnnData objects\n",
    "3. Applying scGALA's alignment enhancement algorithm\n",
    "4. Saving the enhanced anchors back to a CSV file\n",
    "\n",
    "scGALA provides two main functions for this purpose:\n",
    "\n",
    "- `mod_seurat_anchors()`: A complete pipeline for processing Seurat anchors\n",
    "- `compute_anchor_score()`: For custom anchor computation\n",
    "\n",
    "For this tutorial, we'll assume the Python processing has already been completed, and we'll load the enhanced anchors from the saved CSV file.\n",
    "\n",
    "**Note**: When running this tutorial yourself, you would need to execute the Python code below in a separate script:\n",
    "\n",
    "```python\n",
    "mod_seurat_anchors(anchors_ori=\"temp/anchors.csv\",adata1='temp/adata1.h5ad',adata2='temp/adata2.h5ad') "
   ]
  },
  {
   "cell_type": "markdown",
   "metadata": {},
   "source": [
    "### Integrating Enhanced Anchors back into Seurat\n",
    "\n",
    "Now that we have enhanced anchors from scGALA, we need to:\n",
    "\n",
    "1. Load the enhanced anchors from the CSV file\n",
    "2. Adjust indices if needed (Python uses 0-based indexing while R uses 1-based)\n",
    "3. Replace the original anchors in the Seurat object\n",
    "4. Re-run the TransferData function with the enhanced anchors\n",
    "\n",
    "This approach allows us to leverage Seurat's existing transfer infrastructure while benefiting from scGALA's improved cell alignment."
   ]
  },
  {
   "cell_type": "code",
   "execution_count": null,
   "metadata": {
    "vscode": {
     "languageId": "r"
    }
   },
   "outputs": [
    {
     "data": {
      "text/html": [
       "<table class=\"dataframe\">\n",
       "<caption>A data.frame: 6 × 3</caption>\n",
       "<thead>\n",
       "\t<tr><th></th><th scope=col>cell1</th><th scope=col>cell2</th><th scope=col>score</th></tr>\n",
       "\t<tr><th></th><th scope=col>&lt;dbl&gt;</th><th scope=col>&lt;dbl&gt;</th><th scope=col>&lt;dbl&gt;</th></tr>\n",
       "</thead>\n",
       "<tbody>\n",
       "\t<tr><th scope=row>1</th><td>1</td><td>4285</td><td>0.9743590</td></tr>\n",
       "\t<tr><th scope=row>2</th><td>1</td><td>4309</td><td>0.1538462</td></tr>\n",
       "\t<tr><th scope=row>3</th><td>1</td><td>4532</td><td>0.8717949</td></tr>\n",
       "\t<tr><th scope=row>4</th><td>2</td><td> 885</td><td>0.7435897</td></tr>\n",
       "\t<tr><th scope=row>5</th><td>2</td><td>1581</td><td>0.2564103</td></tr>\n",
       "\t<tr><th scope=row>6</th><td>2</td><td>2771</td><td>0.8461538</td></tr>\n",
       "</tbody>\n",
       "</table>\n"
      ],
      "text/latex": [
       "A data.frame: 6 × 3\n",
       "\\begin{tabular}{r|lll}\n",
       "  & cell1 & cell2 & score\\\\\n",
       "  & <dbl> & <dbl> & <dbl>\\\\\n",
       "\\hline\n",
       "\t1 & 1 & 4285 & 0.9743590\\\\\n",
       "\t2 & 1 & 4309 & 0.1538462\\\\\n",
       "\t3 & 1 & 4532 & 0.8717949\\\\\n",
       "\t4 & 2 &  885 & 0.7435897\\\\\n",
       "\t5 & 2 & 1581 & 0.2564103\\\\\n",
       "\t6 & 2 & 2771 & 0.8461538\\\\\n",
       "\\end{tabular}\n"
      ],
      "text/markdown": [
       "\n",
       "A data.frame: 6 × 3\n",
       "\n",
       "| <!--/--> | cell1 &lt;dbl&gt; | cell2 &lt;dbl&gt; | score &lt;dbl&gt; |\n",
       "|---|---|---|---|\n",
       "| 1 | 1 | 4285 | 0.9743590 |\n",
       "| 2 | 1 | 4309 | 0.1538462 |\n",
       "| 3 | 1 | 4532 | 0.8717949 |\n",
       "| 4 | 2 |  885 | 0.7435897 |\n",
       "| 5 | 2 | 1581 | 0.2564103 |\n",
       "| 6 | 2 | 2771 | 0.8461538 |\n",
       "\n"
      ],
      "text/plain": [
       "  cell1 cell2 score    \n",
       "1 1     4285  0.9743590\n",
       "2 1     4309  0.1538462\n",
       "3 1     4532  0.8717949\n",
       "4 2      885  0.7435897\n",
       "5 2     1581  0.2564103\n",
       "6 2     2771  0.8461538"
      ]
     },
     "metadata": {},
     "output_type": "display_data"
    }
   ],
   "source": [
    "anchors_new <- read.csv(\"anchors_mod0903_noprior.csv\")\n",
    "anchors_new$cell1 <- anchors_new$cell1 + 1\n",
    "anchors_new$cell2 <- anchors_new$cell2 + 1\n",
    "\n",
    "head(anchors_new)"
   ]
  },
  {
   "cell_type": "code",
   "execution_count": 26,
   "metadata": {
    "vscode": {
     "languageId": "r"
    }
   },
   "outputs": [
    {
     "name": "stderr",
     "output_type": "stream",
     "text": [
      "Finding integration vectors\n",
      "\n",
      "Finding integration vector weights\n",
      "\n",
      "Predicting cell labels\n",
      "\n"
     ]
    },
    {
     "data": {
      "text/plain": [
       "\n",
       "FALSE  TRUE \n",
       " 1311  6172 "
      ]
     },
     "metadata": {},
     "output_type": "display_data"
    }
   ],
   "source": [
    "# anchors_new <- as.matrix(matched_rows)\n",
    "data.anchors@anchors <- anchors_new #important: the index starts from 1\n",
    "\n",
    "predictions <- TransferData(anchorset = data.anchors, refdata = data.ref$labels, dims = 1:30)\n",
    "data.query <- AddMetaData(data.query, metadata = predictions)\n",
    "\n",
    "data.query$prediction.match <- data.query$predicted.id == data.query$labels\n",
    "table(data.query$prediction.match)"
   ]
  },
  {
   "cell_type": "code",
   "execution_count": 27,
   "metadata": {
    "vscode": {
     "languageId": "r"
    }
   },
   "outputs": [],
   "source": [
    "write.csv(data.query$predicted.id, file = \"predicted_id_mod_noprior.csv\", row.names = TRUE)\n",
    "write.csv(data.query$labels, file = \"real_labels.csv\", row.names = TRUE)\n"
   ]
  },
  {
   "cell_type": "markdown",
   "metadata": {},
   "source": [
    "## Evaluate the enhanced label transfer"
   ]
  },
  {
   "cell_type": "code",
   "execution_count": 28,
   "metadata": {
    "vscode": {
     "languageId": "r"
    }
   },
   "outputs": [
    {
     "name": "stderr",
     "output_type": "stream",
     "text": [
      "Warning message in levels(reference) != levels(data):\n",
      "“longer object length is not a multiple of shorter object length”\n",
      "Warning message in confusionMatrix.default(data = factor(data.query$predicted.id), :\n",
      "“Levels are not in the same order for reference and data. Refactoring data to match.”\n"
     ]
    }
   ],
   "source": [
    "conf_matrix <- confusionMatrix(data = factor(data.query$predicted.id), reference = factor(data.query$labels), mode='everything')\n"
   ]
  },
  {
   "cell_type": "code",
   "execution_count": 29,
   "metadata": {
    "vscode": {
     "languageId": "r"
    }
   },
   "outputs": [
    {
     "name": "stdout",
     "output_type": "stream",
     "text": [
      "      Accuracy          Kappa  AccuracyLower  AccuracyUpper   AccuracyNull \n",
      "     0.8248029      0.7813291      0.8159972      0.8333548      0.4327142 \n",
      "AccuracyPValue  McnemarPValue \n",
      "     0.0000000            NaN \n"
     ]
    }
   ],
   "source": [
    "print(conf_matrix$overall)"
   ]
  },
  {
   "cell_type": "code",
   "execution_count": 30,
   "metadata": {
    "vscode": {
     "languageId": "r"
    }
   },
   "outputs": [
    {
     "name": "stderr",
     "output_type": "stream",
     "text": [
      "Warning message in levels(reference) != levels(data):\n",
      "“longer object length is not a multiple of shorter object length”\n",
      "Warning message in confusionMatrix.default(data = factor(data.query$predicted.id), :\n",
      "“Levels are not in the same order for reference and data. Refactoring data to match.”\n"
     ]
    }
   ],
   "source": [
    "# Ensure the levels of predicted and reference factors are the same\n",
    "levels(data.query$predicted.id) <- levels(data.query$labels)\n",
    "\n",
    "# Create a confusion matrix\n",
    "conf_matrix <- confusionMatrix(data = factor(data.query$predicted.id), reference = factor(data.query$labels), mode='everything')\n",
    "\n",
    "# Extract the confusion matrix table\n",
    "conf_matrix_table <- conf_matrix$table\n",
    "\n",
    "# Convert counts to proportions (accuracy)\n",
    "accuracy_matrix <- prop.table(conf_matrix_table, margin = 1)"
   ]
  },
  {
   "cell_type": "code",
   "execution_count": 31,
   "metadata": {
    "vscode": {
     "languageId": "r"
    }
   },
   "outputs": [],
   "source": [
    "write.csv(accuracy_matrix, file = \"accuracy_matrix_mod_noprior.csv\", row.names = TRUE)"
   ]
  },
  {
   "cell_type": "markdown",
   "metadata": {},
   "source": [
    "### Comparing Original vs Enhanced Results\n",
    "\n",
    "Let's compare the performance metrics between the original Seurat approach and our scGALA-enhanced method:\n",
    "\n",
    "| Metric | Original Seurat | scGALA-enhanced |\n",
    "|--------|----------------|-----------------|\n",
    "| Accuracy | 71.9% | 82.5% |\n",
    "| Kappa | 0.612 | 0.781 |\n",
    "\n",
    "The enhanced approach shows significant improvement in both overall accuracy and the Kappa statistic, indicating better cell type assignment.\n",
    "\n",
    "We can also examine the confusion matrix to see per-class improvements, which provides insight into which cell types benefit most from the enhanced alignment."
   ]
  },
  {
   "cell_type": "markdown",
   "metadata": {},
   "source": [
    "## Conclusion\n",
    "\n",
    "In this tutorial, we've demonstrated how to enhance Seurat's label transfer functionality using scGALA:\n",
    "\n",
    "1. We ran the standard Seurat label transfer workflow to establish a baseline\n",
    "2. We extracted the original cell alignments (anchors)\n",
    "3. We enhanced these alignments using scGALA (in an external Python process)\n",
    "4. We integrated the enhanced alignments back into the Seurat workflow\n",
    "5. We compared the performance, showing substantial improvement\n",
    "\n",
    "This approach allows you to benefit from scGALA's advanced alignment capabilities while still using Seurat's familiar interface and visualization tools.\n",
    "\n",
    "### Next Steps\n",
    "\n",
    "- Try different parameters in the scGALA enhancement\n",
    "- Apply this approach to your own datasets\n",
    "- Explore scGALA's other integration capabilities beyond label transfer"
   ]
  }
 ],
 "metadata": {
  "kernelspec": {
   "display_name": "R",
   "language": "R",
   "name": "ir"
  },
  "language_info": {
   "codemirror_mode": "r",
   "file_extension": ".r",
   "mimetype": "text/x-r-source",
   "name": "R",
   "pygments_lexer": "r",
   "version": "4.3.3"
  }
 },
 "nbformat": 4,
 "nbformat_minor": 2
}
